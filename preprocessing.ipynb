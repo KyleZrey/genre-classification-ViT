{
 "cells": [
  {
   "cell_type": "code",
   "execution_count": 1,
   "metadata": {},
   "outputs": [],
   "source": [
    "import pandas as pd"
   ]
  },
  {
   "cell_type": "code",
   "execution_count": 2,
   "metadata": {},
   "outputs": [
    {
     "name": "stdout",
     "output_type": "stream",
     "text": [
      "(40108, 6)\n"
     ]
    },
    {
     "data": {
      "text/html": [
       "<div>\n",
       "<style scoped>\n",
       "    .dataframe tbody tr th:only-of-type {\n",
       "        vertical-align: middle;\n",
       "    }\n",
       "\n",
       "    .dataframe tbody tr th {\n",
       "        vertical-align: top;\n",
       "    }\n",
       "\n",
       "    .dataframe thead th {\n",
       "        text-align: right;\n",
       "    }\n",
       "</style>\n",
       "<table border=\"1\" class=\"dataframe\">\n",
       "  <thead>\n",
       "    <tr style=\"text-align: right;\">\n",
       "      <th></th>\n",
       "      <th>imdbId</th>\n",
       "      <th>Imdb Link</th>\n",
       "      <th>Title</th>\n",
       "      <th>IMDB Score</th>\n",
       "      <th>Genre</th>\n",
       "      <th>Poster</th>\n",
       "    </tr>\n",
       "  </thead>\n",
       "  <tbody>\n",
       "    <tr>\n",
       "      <th>0</th>\n",
       "      <td>114709</td>\n",
       "      <td>http://www.imdb.com/title/tt114709</td>\n",
       "      <td>Toy Story (1995)</td>\n",
       "      <td>8.3</td>\n",
       "      <td>Animation|Adventure|Comedy</td>\n",
       "      <td>https://images-na.ssl-images-amazon.com/images...</td>\n",
       "    </tr>\n",
       "    <tr>\n",
       "      <th>1</th>\n",
       "      <td>113497</td>\n",
       "      <td>http://www.imdb.com/title/tt113497</td>\n",
       "      <td>Jumanji (1995)</td>\n",
       "      <td>6.9</td>\n",
       "      <td>Action|Adventure|Family</td>\n",
       "      <td>https://images-na.ssl-images-amazon.com/images...</td>\n",
       "    </tr>\n",
       "    <tr>\n",
       "      <th>2</th>\n",
       "      <td>113228</td>\n",
       "      <td>http://www.imdb.com/title/tt113228</td>\n",
       "      <td>Grumpier Old Men (1995)</td>\n",
       "      <td>6.6</td>\n",
       "      <td>Comedy|Romance</td>\n",
       "      <td>https://images-na.ssl-images-amazon.com/images...</td>\n",
       "    </tr>\n",
       "    <tr>\n",
       "      <th>3</th>\n",
       "      <td>114885</td>\n",
       "      <td>http://www.imdb.com/title/tt114885</td>\n",
       "      <td>Waiting to Exhale (1995)</td>\n",
       "      <td>5.7</td>\n",
       "      <td>Comedy|Drama|Romance</td>\n",
       "      <td>https://images-na.ssl-images-amazon.com/images...</td>\n",
       "    </tr>\n",
       "    <tr>\n",
       "      <th>4</th>\n",
       "      <td>113041</td>\n",
       "      <td>http://www.imdb.com/title/tt113041</td>\n",
       "      <td>Father of the Bride Part II (1995)</td>\n",
       "      <td>5.9</td>\n",
       "      <td>Comedy|Family|Romance</td>\n",
       "      <td>https://images-na.ssl-images-amazon.com/images...</td>\n",
       "    </tr>\n",
       "  </tbody>\n",
       "</table>\n",
       "</div>"
      ],
      "text/plain": [
       "   imdbId                           Imdb Link  \\\n",
       "0  114709  http://www.imdb.com/title/tt114709   \n",
       "1  113497  http://www.imdb.com/title/tt113497   \n",
       "2  113228  http://www.imdb.com/title/tt113228   \n",
       "3  114885  http://www.imdb.com/title/tt114885   \n",
       "4  113041  http://www.imdb.com/title/tt113041   \n",
       "\n",
       "                                Title  IMDB Score                       Genre  \\\n",
       "0                    Toy Story (1995)         8.3  Animation|Adventure|Comedy   \n",
       "1                      Jumanji (1995)         6.9     Action|Adventure|Family   \n",
       "2             Grumpier Old Men (1995)         6.6              Comedy|Romance   \n",
       "3            Waiting to Exhale (1995)         5.7        Comedy|Drama|Romance   \n",
       "4  Father of the Bride Part II (1995)         5.9       Comedy|Family|Romance   \n",
       "\n",
       "                                              Poster  \n",
       "0  https://images-na.ssl-images-amazon.com/images...  \n",
       "1  https://images-na.ssl-images-amazon.com/images...  \n",
       "2  https://images-na.ssl-images-amazon.com/images...  \n",
       "3  https://images-na.ssl-images-amazon.com/images...  \n",
       "4  https://images-na.ssl-images-amazon.com/images...  "
      ]
     },
     "execution_count": 2,
     "metadata": {},
     "output_type": "execute_result"
    }
   ],
   "source": [
    "df = pd.read_csv(\"MovieGenre.csv\")\n",
    "print(df.shape)\n",
    "df.head(5)\n"
   ]
  },
  {
   "cell_type": "code",
   "execution_count": 3,
   "metadata": {},
   "outputs": [
    {
     "name": "stdout",
     "output_type": "stream",
     "text": [
      "False\n",
      "593\n",
      "False\n",
      "593\n",
      "False\n",
      "638\n",
      "False\n",
      "1454\n"
     ]
    }
   ],
   "source": [
    "#ensure everything is unique except for score and genre\n",
    "print(df['imdbId'].is_unique)\n",
    "print(len(df['imdbId']) - df['imdbId'].nunique())\n",
    "\n",
    "print(df['Imdb Link'].is_unique)\n",
    "print(len(df['Imdb Link']) - df['Imdb Link'].nunique())\n",
    "\n",
    "print(df['Title'].is_unique)\n",
    "print(len(df['Title']) - df['Title'].nunique())\n",
    "\n",
    "print(df['Poster'].is_unique)\n",
    "print(len(df['Poster']) - df['Poster'].nunique())"
   ]
  },
  {
   "cell_type": "code",
   "execution_count": 4,
   "metadata": {},
   "outputs": [],
   "source": [
    "#remove not unique values\n",
    "df = df.drop_duplicates(subset=['imdbId'], keep=False)\n",
    "df = df.drop_duplicates(subset=['Imdb Link'], keep=False)\n",
    "df = df.drop_duplicates(subset=['Title'], keep=False)\n",
    "df = df.drop_duplicates(subset=['Poster'], keep=False)"
   ]
  },
  {
   "cell_type": "code",
   "execution_count": 5,
   "metadata": {},
   "outputs": [
    {
     "name": "stdout",
     "output_type": "stream",
     "text": [
      "True\n",
      "0\n",
      "True\n",
      "0\n",
      "True\n",
      "0\n",
      "True\n",
      "0\n"
     ]
    }
   ],
   "source": [
    "print(df['imdbId'].is_unique)\n",
    "print(len(df['imdbId']) - df['imdbId'].nunique())\n",
    "\n",
    "print(df['Imdb Link'].is_unique)\n",
    "print(len(df['Imdb Link']) - df['Imdb Link'].nunique())\n",
    "\n",
    "print(df['Title'].is_unique)\n",
    "print(len(df['Title']) - df['Title'].nunique())\n",
    "\n",
    "print(df['Poster'].is_unique)\n",
    "print(len(df['Poster']) - df['Poster'].nunique())"
   ]
  },
  {
   "cell_type": "code",
   "execution_count": 6,
   "metadata": {},
   "outputs": [
    {
     "data": {
      "text/plain": [
       "imdbId          0\n",
       "Imdb Link       0\n",
       "Title           0\n",
       "IMDB Score     17\n",
       "Genre         119\n",
       "Poster          0\n",
       "dtype: int64"
      ]
     },
     "execution_count": 6,
     "metadata": {},
     "output_type": "execute_result"
    }
   ],
   "source": [
    "#Check null values\n",
    "df.isnull().sum()"
   ]
  },
  {
   "cell_type": "code",
   "execution_count": 7,
   "metadata": {},
   "outputs": [
    {
     "data": {
      "text/plain": [
       "imdbId         0\n",
       "Imdb Link      0\n",
       "Title          0\n",
       "IMDB Score    17\n",
       "Genre          0\n",
       "Poster         0\n",
       "dtype: int64"
      ]
     },
     "execution_count": 7,
     "metadata": {},
     "output_type": "execute_result"
    }
   ],
   "source": [
    "df = df.dropna(subset=['Genre'])\n",
    "df.isnull().sum()"
   ]
  },
  {
   "cell_type": "code",
   "execution_count": 8,
   "metadata": {},
   "outputs": [
    {
     "name": "stdout",
     "output_type": "stream",
     "text": [
      "(37786, 6)\n"
     ]
    }
   ],
   "source": [
    "print(df.shape)"
   ]
  },
  {
   "cell_type": "code",
   "execution_count": 9,
   "metadata": {},
   "outputs": [],
   "source": [
    "# split genre and turn them into a list\n",
    "df['Genre'] = df['Genre'].str.split('|')"
   ]
  },
  {
   "cell_type": "code",
   "execution_count": 10,
   "metadata": {},
   "outputs": [],
   "source": [
    "#Binary encoding using MultiLabelBinarizer\n",
    "from sklearn.preprocessing import MultiLabelBinarizer\n",
    "\n",
    "mlb = MultiLabelBinarizer()\n",
    "\n",
    "# Fit and transform the Genre column\n",
    "genre_encoded = mlb.fit_transform(df['Genre'])\n",
    "\n",
    "# Create a DataFrame with the encoded genres\n",
    "encoded_df = pd.DataFrame(genre_encoded, columns=mlb.classes_)\n",
    "\n",
    "df = pd.concat([df.reset_index(drop=True), encoded_df], axis=1)"
   ]
  },
  {
   "cell_type": "code",
   "execution_count": 11,
   "metadata": {},
   "outputs": [],
   "source": [
    "#drop genre column\n",
    "df = df.drop(columns=['Genre', 'Imdb Link', 'IMDB Score'])"
   ]
  },
  {
   "cell_type": "code",
   "execution_count": 12,
   "metadata": {},
   "outputs": [
    {
     "name": "stdout",
     "output_type": "stream",
     "text": [
      "<class 'pandas.core.frame.DataFrame'>\n",
      "RangeIndex: 37786 entries, 0 to 37785\n",
      "Data columns (total 31 columns):\n",
      " #   Column       Non-Null Count  Dtype \n",
      "---  ------       --------------  ----- \n",
      " 0   imdbId       37786 non-null  int64 \n",
      " 1   Title        37786 non-null  object\n",
      " 2   Poster       37786 non-null  object\n",
      " 3   Action       37786 non-null  int64 \n",
      " 4   Adult        37786 non-null  int64 \n",
      " 5   Adventure    37786 non-null  int64 \n",
      " 6   Animation    37786 non-null  int64 \n",
      " 7   Biography    37786 non-null  int64 \n",
      " 8   Comedy       37786 non-null  int64 \n",
      " 9   Crime        37786 non-null  int64 \n",
      " 10  Documentary  37786 non-null  int64 \n",
      " 11  Drama        37786 non-null  int64 \n",
      " 12  Family       37786 non-null  int64 \n",
      " 13  Fantasy      37786 non-null  int64 \n",
      " 14  Film-Noir    37786 non-null  int64 \n",
      " 15  Game-Show    37786 non-null  int64 \n",
      " 16  History      37786 non-null  int64 \n",
      " 17  Horror       37786 non-null  int64 \n",
      " 18  Music        37786 non-null  int64 \n",
      " 19  Musical      37786 non-null  int64 \n",
      " 20  Mystery      37786 non-null  int64 \n",
      " 21  News         37786 non-null  int64 \n",
      " 22  Reality-TV   37786 non-null  int64 \n",
      " 23  Romance      37786 non-null  int64 \n",
      " 24  Sci-Fi       37786 non-null  int64 \n",
      " 25  Short        37786 non-null  int64 \n",
      " 26  Sport        37786 non-null  int64 \n",
      " 27  Talk-Show    37786 non-null  int64 \n",
      " 28  Thriller     37786 non-null  int64 \n",
      " 29  War          37786 non-null  int64 \n",
      " 30  Western      37786 non-null  int64 \n",
      "dtypes: int64(29), object(2)\n",
      "memory usage: 8.9+ MB\n"
     ]
    }
   ],
   "source": [
    "df.info()"
   ]
  },
  {
   "cell_type": "code",
   "execution_count": 13,
   "metadata": {},
   "outputs": [],
   "source": [
    "df.to_csv(\"clean_MovieGenre.csv\", index=False)"
   ]
  }
 ],
 "metadata": {
  "kernelspec": {
   "display_name": "Python 3",
   "language": "python",
   "name": "python3"
  },
  "language_info": {
   "codemirror_mode": {
    "name": "ipython",
    "version": 3
   },
   "file_extension": ".py",
   "mimetype": "text/x-python",
   "name": "python",
   "nbconvert_exporter": "python",
   "pygments_lexer": "ipython3",
   "version": "3.12.1"
  }
 },
 "nbformat": 4,
 "nbformat_minor": 2
}
