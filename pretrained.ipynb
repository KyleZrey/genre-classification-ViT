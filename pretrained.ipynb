{
 "cells": [
  {
   "cell_type": "markdown",
   "metadata": {},
   "source": [
    "### Import Packages"
   ]
  },
  {
   "cell_type": "code",
   "execution_count": null,
   "metadata": {},
   "outputs": [],
   "source": [
    "import pandas as pd\n",
    "import numpy as np\n",
    "import os\n",
    "from PIL import Image\n",
    "from tqdm import tqdm\n",
    "import torch\n",
    "from transformers import ViTImageProcessor, ViTForImageClassification\n",
    "from sklearn.metrics import f1_score, accuracy_score\n",
    "import matplotlib.pyplot as plt\n",
    "from sklearn.model_selection import train_test_split"
   ]
  },
  {
   "cell_type": "markdown",
   "metadata": {},
   "source": [
    "### Image and Labels Loading and Matching"
   ]
  },
  {
   "cell_type": "code",
   "execution_count": null,
   "metadata": {},
   "outputs": [],
   "source": [
    "# Load the Data from CSV\n",
    "csv_file = \"15_clean_MovieGenre.csv\"  # Path to your CSV file\n",
    "df = pd.read_csv(csv_file)\n",
    "\n",
    "# for 23\n",
    "# binarized_columns = ['Action', 'Adventure', 'Animation', 'Biography', 'Comedy', 'Crime', 'Documentary', \n",
    "#                      'Drama', 'Family', 'Fantasy', 'Film-Noir', 'History', 'Horror', 'Music', 'Musical', \n",
    "#                      'Mystery', 'Romance', 'Sci-Fi', 'Short', 'Sport', 'Thriller', 'War', 'Western']\n",
    "\n",
    "#for 15\n",
    "binarized_columns = ['Action', 'Adventure', 'Animation', 'Biography', 'Comedy', 'Crime', 'Documentary', \n",
    "                     'Drama', 'Family', 'Fantasy', 'Horror', 'Romance', 'Thriller']\n"
   ]
  },
  {
   "cell_type": "code",
   "execution_count": null,
   "metadata": {},
   "outputs": [],
   "source": [
    "image_folder = \"downloaded_images\" \n",
    "images = []\n",
    "labels = []\n",
    "batch_size = 128  \n",
    "\n",
    "# Load images and labels in batches\n",
    "num_batches = len(df) // batch_size + 1\n",
    "\n",
    "for batch_num in tqdm(range(num_batches)):\n",
    "    start_idx = batch_num * batch_size\n",
    "    end_idx = min((batch_num + 1) * batch_size, len(df))\n",
    "    \n",
    "    batch_df = df.iloc[start_idx:end_idx]\n",
    "    batch_images = []\n",
    "    batch_labels = []\n",
    "    \n",
    "    for index, row in batch_df.iterrows():\n",
    "        filename = str(row.iloc[0]) + \".jpg\"  # filenames match the imdbIDs\n",
    "        label = [int(row[column]) for column in binarized_columns]  # Extract binarized labels for each genre\n",
    "\n",
    "        image_path = os.path.join(image_folder, filename)\n",
    "        try:\n",
    "            image = Image.open(image_path)  # Open image using PIL\n",
    "            image = image.convert(\"RGB\")  # Convert image to RGB mode if necessary\n",
    "            image_array = np.array(image)  # Convert PIL Image to numpy array\n",
    "            batch_images.append(image_array)\n",
    "            batch_labels.append(label)\n",
    "        except Exception as e:\n",
    "            print(f\"Error loading image {filename}: {e}\")\n",
    "\n",
    "    # Concatenate the batches of images and labels\n",
    "    if batch_images:\n",
    "        images.append(np.array(batch_images))\n",
    "        labels.append(np.array(batch_labels))\n",
    "\n",
    "# Concatenate all batches into single numpy arrays\n",
    "if images:\n",
    "    images = np.concatenate(images, axis=0)\n",
    "    labels = np.concatenate(labels, axis=0)"
   ]
  },
  {
   "cell_type": "markdown",
   "metadata": {},
   "source": [
    "### Sample Posters"
   ]
  },
  {
   "cell_type": "code",
   "execution_count": null,
   "metadata": {},
   "outputs": [],
   "source": [
    "# Print the shapes of the loaded data\n",
    "print(\"Images shape:\", images.shape)\n",
    "print(\"Labels shape:\", labels.shape)\n",
    "\n",
    "# Display sample images\n",
    "plt.figure(figsize=(12, 12))\n",
    "for i in range(9):\n",
    "\tax = plt.subplot(3, 3, i + 1)\n",
    "\tplt.imshow(images[i])\n",
    "\tplt.axis('off')\n",
    "\tplt.title([column for column, label in zip(binarized_columns, labels[i]) if label == 1], fontsize=15)\n",
    "plt.tight_layout()\n",
    "plt.show()"
   ]
  },
  {
   "cell_type": "markdown",
   "metadata": {},
   "source": [
    "### Preprocessing"
   ]
  },
  {
   "cell_type": "code",
   "execution_count": null,
   "metadata": {},
   "outputs": [],
   "source": [
    "# Perform train-test split\n",
    "X_train, X_test, y_train, y_test = train_test_split(images, labels, test_size=0.1, random_state=42) #change test_size if want quicker runtime\n",
    "\n",
    "# Print the shapes of the split datasets\n",
    "print(\"Training images shape:\", X_train.shape)\n",
    "print(\"Training labels shape:\", y_train.shape)\n",
    "print(\"Testing images shape:\", X_test.shape)\n",
    "print(\"Testing labels shape:\", y_test.shape)"
   ]
  },
  {
   "cell_type": "code",
   "execution_count": null,
   "metadata": {},
   "outputs": [],
   "source": [
    "train_label_distribution = np.sum(y_train, axis=0)\n",
    "test_label_distribution = np.sum(y_test, axis=0)\n",
    "\n",
    "combined_data = {\n",
    "    \"Label\": binarized_columns,\n",
    "    \"Train Distribution\": train_label_distribution,\n",
    "    \"Test Distribution\": test_label_distribution\n",
    "}\n",
    "\n",
    "df = pd.DataFrame(combined_data)\n",
    "print(df)"
   ]
  },
  {
   "cell_type": "markdown",
   "metadata": {},
   "source": [
    "### Modeling"
   ]
  },
  {
   "cell_type": "code",
   "execution_count": null,
   "metadata": {},
   "outputs": [],
   "source": [
    "# Model Specification\n",
    "processor = ViTImageProcessor.from_pretrained('google/vit-base-patch16-224-in21k')\n",
    "model = ViTForImageClassification.from_pretrained(\n",
    "\t'google/vit-base-patch16-224-in21k',\n",
    "\tnum_labels=len(binarized_columns),\n",
    "\tproblem_type=\"multi_label_classification\"\n",
    ")\n",
    "device = torch.device('cuda' if torch.cuda.is_available() else 'cpu')\n",
    "model = model.to(device)"
   ]
  },
  {
   "cell_type": "markdown",
   "metadata": {},
   "source": [
    "### Testing"
   ]
  },
  {
   "cell_type": "code",
   "execution_count": null,
   "metadata": {},
   "outputs": [],
   "source": [
    "# Perform inference\n",
    "predicted_probabilities = []\n",
    "\n",
    "for i in range(0, len(X_test), batch_size):\n",
    "    # Process batch inputs\n",
    "    batch_inputs = processor(images=X_test[i:i+batch_size], return_tensors=\"pt\")\n",
    "    batch_inputs = {k: v.to(device) for k, v in batch_inputs.items()}\n",
    "    \n",
    "    with torch.no_grad():\n",
    "        # Forward pass\n",
    "        outputs = model(**batch_inputs)\n",
    "    \n",
    "    # Get the predicted logits\n",
    "    logits = outputs.logits\n",
    "    \n",
    "    # Convert logits to probabilities using sigmoid\n",
    "    probabilities = torch.sigmoid(logits)\n",
    "    \n",
    "    # Append predicted probabilities for this batch\n",
    "    predicted_probabilities.append(probabilities.cpu().numpy())\n",
    "\n",
    "# Concatenate predicted probabilities for all batches\n",
    "predicted_probabilities = np.concatenate(predicted_probabilities, axis=0)"
   ]
  },
  {
   "cell_type": "code",
   "execution_count": null,
   "metadata": {},
   "outputs": [],
   "source": [
    "# Convert lists to NumPy arrays\n",
    "y_test_np = np.array(y_test)\n",
    "predicted_probabilities_np = np.array(predicted_probabilities)\n",
    "\n",
    "# Ensure that the arrays have the appropriate shape\n",
    "y_test_np = np.vstack([np.array(y) for y in y_test_np])\n",
    "\n",
    "# Define the threshold for binary classification\n",
    "threshold = 0.5\n",
    "\n",
    "# Threshold predicted probabilities to obtain binary predictions\n",
    "predicted_labels_np = (predicted_probabilities_np > threshold).astype(int)"
   ]
  },
  {
   "cell_type": "markdown",
   "metadata": {},
   "source": [
    "### Evaluation"
   ]
  },
  {
   "cell_type": "code",
   "execution_count": null,
   "metadata": {},
   "outputs": [],
   "source": [
    "# Initialize lists to store F1 scores and accuracies for each label\n",
    "f1_scores = []\n",
    "accuracies = []\n",
    "predicted_binary_labels = (predicted_probabilities > threshold).astype(int)\n",
    "\n",
    "# Iterate over each label\n",
    "for i, label in enumerate(binarized_columns):\n",
    "    # Calculate F1 score\n",
    "    f1 = f1_score(y_test_np[:, i], predicted_labels_np[:, i], average='binary')\n",
    "    f1_scores.append(f1)\n",
    "    \n",
    "    # Calculate accuracy\n",
    "    accuracy = accuracy_score(y_test[:, i], predicted_binary_labels[:, i])\n",
    "    accuracies.append(accuracy)\n",
    "\n",
    "data = {\n",
    "    \"Label\": binarized_columns,\n",
    "    \"F1 Score\": f1_scores,\n",
    "    \"Accuracy\": accuracies\n",
    "}\n",
    "\n",
    "df = pd.DataFrame(data)\n",
    "print(df)\n",
    "\n",
    "# Compute average F1 score\n",
    "avg_f1_score = np.mean(f1_scores)\n",
    "print(\"\\nAverage F1 score:\", avg_f1_score)\n",
    "\n",
    "# Compute average accuracy\n",
    "average_accuracy = sum(accuracies) / len(accuracies)\n",
    "print(\"Average accuracy:\", average_accuracy)"
   ]
  },
  {
   "cell_type": "code",
   "execution_count": null,
   "metadata": {},
   "outputs": [],
   "source": [
    "def display(X_test, y_test, predicted_probabilities, binarized_columns, threshold=0.5):\n",
    "    fig, axes = plt.subplots(3, 3, figsize=(12, 12))\n",
    "\n",
    "    for idx, ax in enumerate(axes.flat):\n",
    "        if idx < len(X_test):\n",
    "            poster = X_test[idx]\n",
    "            true_labels = [binarized_columns[i] for i, label in enumerate(y_test[idx]) if label == 1]\n",
    "            predicted_genre_probabilities = predicted_probabilities[idx]\n",
    "\n",
    "            # Sort predicted probabilities and select labels based on the number of true labels\n",
    "            num_true_labels = len(true_labels)\n",
    "            top_predicted_idx = np.argsort(predicted_genre_probabilities)[::-1][:num_true_labels]\n",
    "            predicted_genre_labels = [binarized_columns[i] for i in top_predicted_idx]\n",
    "            top_predicted_probabilities = predicted_genre_probabilities[top_predicted_idx]\n",
    "\n",
    "            ax.imshow(poster)\n",
    "            ax.set_title(f\"True Genres: {true_labels}\\nPredicted Genres: {predicted_genre_labels}\\nProbabilities: {top_predicted_probabilities}\", fontsize=10)\n",
    "            ax.axis('off')\n",
    "        else:\n",
    "            ax.axis('off')  # Hide empty subplots\n",
    "        \n",
    "    plt.tight_layout()\n",
    "    plt.show()\n",
    "\n",
    "display(X_test, y_test, predicted_probabilities, binarized_columns)"
   ]
  }
 ],
 "metadata": {
  "kernelspec": {
   "display_name": "Python 3",
   "language": "python",
   "name": "python3"
  },
  "language_info": {
   "codemirror_mode": {
    "name": "ipython",
    "version": 3
   },
   "file_extension": ".py",
   "mimetype": "text/x-python",
   "name": "python",
   "nbconvert_exporter": "python",
   "pygments_lexer": "ipython3",
   "version": "3.9.0"
  }
 },
 "nbformat": 4,
 "nbformat_minor": 2
}
